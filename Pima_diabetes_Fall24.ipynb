{
  "nbformat": 4,
  "nbformat_minor": 0,
  "metadata": {
    "colab": {
      "provenance": []
    },
    "kernelspec": {
      "name": "python3",
      "display_name": "Python 3"
    },
    "language_info": {
      "name": "python"
    }
  },
  "cells": [
    {
      "cell_type": "code",
      "execution_count": null,
      "metadata": {
        "id": "-Qq-lNFilYkV"
      },
      "outputs": [],
      "source": [
        "import numpy as np\n",
        "import pandas as pd\n",
        "import matplotlib.pyplot as plt"
      ]
    },
    {
      "cell_type": "code",
      "source": [
        "from sklearn.model_selection import train_test_split, GridSearchCV, KFold\n",
        "\n",
        "from sklearn.metrics import confusion_matrix, classification_report, roc_auc_score, roc_curve, f1_score, make_scorer"
      ],
      "metadata": {
        "id": "bPpEK3gnnC7M"
      },
      "execution_count": null,
      "outputs": []
    },
    {
      "cell_type": "code",
      "source": [
        "from sklearn.pipeline import Pipeline\n",
        "from sklearn.preprocessing import StandardScaler\n",
        "from sklearn.compose import ColumnTransformer"
      ],
      "metadata": {
        "id": "q3LC2H1WF0gg"
      },
      "execution_count": null,
      "outputs": []
    },
    {
      "cell_type": "code",
      "source": [
        "from sklearn.naive_bayes import GaussianNB\n",
        "\n",
        "from sklearn.tree import DecisionTreeClassifier\n",
        "\n",
        "from sklearn import tree\n",
        "\n",
        "from sklearn.ensemble import RandomForestClassifier, GradientBoostingClassifier\n",
        "\n",
        "from sklearn.linear_model import LogisticRegression\n",
        "\n",
        "# We have not learned the next two yet\n",
        "\n",
        "from sklearn.neighbors import KNeighborsClassifier\n",
        "\n",
        "from sklearn.svm import SVC"
      ],
      "metadata": {
        "id": "pfD14EopnCe-"
      },
      "execution_count": null,
      "outputs": []
    },
    {
      "cell_type": "markdown",
      "source": [
        "The Pima Indians Diabetes Dataset involves predicting the onset of diabetes within 5 years in Pima Indians given medical details.\n",
        "\n",
        "It is a binary (2-class) classification problem. The number of observations for each class is not balanced. There are 768 observations with 8 input variables and 1 output variable. Missing values are believed to be encoded with zero values. The variable names are as follows:\n",
        "\n",
        "Number of times pregnant.\n",
        "\n",
        "Plasma glucose concentration a 2 hours in an oral glucose tolerance test.\n",
        "\n",
        "Diastolic blood pressure (mm Hg).\n",
        "\n",
        "Triceps skinfold thickness (mm).\n",
        "\n",
        "2-Hour serum insulin (mu U/ml).\n",
        "\n",
        "Body mass index (weight in kg/(height in m)^2).\n",
        "\n",
        "Diabetes pedigree function.\n",
        "\n",
        "Age (years).\n",
        "\n",
        "Class variable (0 or 1)."
      ],
      "metadata": {
        "id": "uiboQBax8SgR"
      }
    },
    {
      "cell_type": "markdown",
      "source": [
        "From Wikipedia:\n",
        "\n",
        "\"The Akimel O'odham (O'odham for \"river people\"), also called the Pima, are a group of Native Americans living in an area consisting of what is now central and southern Arizona, as well as northwestern Mexico in the states of Sonora and Chihuahua. The majority population of the two current bands of the Akimel O'odham in the United States are based in two reservations: the Keli Akimel Oʼodham on the Gila River Indian Community (GRIC) and the On'k Akimel O'odham on the Salt River Pima-Maricopa Indian Community (SRPMIC).\""
      ],
      "metadata": {
        "id": "VyAG7Y5y8SZa"
      }
    },
    {
      "cell_type": "code",
      "source": [
        "url = \"https://raw.githubusercontent.com/jbrownlee/Datasets/master/pima-indians-diabetes.csv\""
      ],
      "metadata": {
        "id": "jI88_7dklghD"
      },
      "execution_count": null,
      "outputs": []
    },
    {
      "cell_type": "code",
      "source": [
        "pima_diabetes_df = pd.read_csv(url, header=None) # There are not available column names"
      ],
      "metadata": {
        "id": "dvsBV4talisA"
      },
      "execution_count": null,
      "outputs": []
    },
    {
      "cell_type": "code",
      "source": [
        "pima_diabetes_df.info()"
      ],
      "metadata": {
        "id": "q1TVwZhU7cIG"
      },
      "execution_count": null,
      "outputs": []
    },
    {
      "cell_type": "code",
      "source": [
        "# The outcome variable is the last column\n",
        "\n",
        "pima_diabetes_df.iloc [ : , -1].value_counts()"
      ],
      "metadata": {
        "id": "TFe4SpB2nKRT"
      },
      "execution_count": null,
      "outputs": []
    },
    {
      "cell_type": "code",
      "source": [
        "pima_diabetes_df.iloc [ : , -1].value_counts(normalize= True)"
      ],
      "metadata": {
        "id": "eB7vj0xoDHmZ"
      },
      "execution_count": null,
      "outputs": []
    },
    {
      "cell_type": "code",
      "source": [
        "# If we only want the predictors ...\n",
        "\n",
        "pima_diabetes_df.iloc [ : , :-1].info()"
      ],
      "metadata": {
        "id": "uVFxgHJynkyC"
      },
      "execution_count": null,
      "outputs": []
    },
    {
      "cell_type": "markdown",
      "source": [
        "### Apply Logistic Regression\n",
        "\n",
        "### First apply it based on accuracy, then based on the f1-score for the positive class."
      ],
      "metadata": {
        "id": "6qBoOxU9HWiH"
      }
    },
    {
      "cell_type": "code",
      "source": [],
      "metadata": {
        "id": "ZqRUgcDtka-i"
      },
      "execution_count": null,
      "outputs": []
    },
    {
      "cell_type": "code",
      "source": [],
      "metadata": {
        "id": "nsIG5qkpka35"
      },
      "execution_count": null,
      "outputs": []
    },
    {
      "cell_type": "code",
      "source": [],
      "metadata": {
        "id": "4Yks4EsZkfsb"
      },
      "execution_count": null,
      "outputs": []
    },
    {
      "cell_type": "code",
      "source": [],
      "metadata": {
        "id": "BZ9TZf5jkfpl"
      },
      "execution_count": null,
      "outputs": []
    },
    {
      "cell_type": "markdown",
      "source": [
        "### Apply Random Forest (only based on the f1-score for the positive class)"
      ],
      "metadata": {
        "id": "_Av4L4-agcg7"
      }
    },
    {
      "cell_type": "markdown",
      "source": [
        "For the number of trees, use the same options we used in class before.\n",
        "\n",
        "For the number of features, use 2, 4, and 8.\n",
        "\n",
        "Try both G and E as criterion."
      ],
      "metadata": {
        "id": "JIuzSNp_grjK"
      }
    },
    {
      "cell_type": "code",
      "source": [],
      "metadata": {
        "id": "f1aGv9UAkpRb"
      },
      "execution_count": null,
      "outputs": []
    },
    {
      "cell_type": "code",
      "source": [],
      "metadata": {
        "id": "StT3fVC8kpPJ"
      },
      "execution_count": null,
      "outputs": []
    },
    {
      "cell_type": "code",
      "source": [],
      "metadata": {
        "id": "dKklIvVAkpNG"
      },
      "execution_count": null,
      "outputs": []
    },
    {
      "cell_type": "code",
      "source": [],
      "metadata": {
        "id": "3yWGi4PtkpKn"
      },
      "execution_count": null,
      "outputs": []
    }
  ]
}